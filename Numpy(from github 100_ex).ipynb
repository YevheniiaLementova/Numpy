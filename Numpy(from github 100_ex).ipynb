{
 "cells": [
  {
   "cell_type": "code",
   "execution_count": 3,
   "id": "01f73d81-8f43-40be-a21c-b26405ccdb20",
   "metadata": {},
   "outputs": [],
   "source": [
    "import numpy as np"
   ]
  },
  {
   "cell_type": "code",
   "execution_count": null,
   "id": "00931e19-a875-433d-8764-1f3203157226",
   "metadata": {},
   "outputs": [],
   "source": [
    "# 75. How to compute averages using a sliding window over an array? (★★★)"
   ]
  },
  {
   "cell_type": "code",
   "execution_count": 51,
   "id": "abbd239f-4857-44b1-8a60-91bab3ae871e",
   "metadata": {},
   "outputs": [],
   "source": [
    "arr = np.arange(5)"
   ]
  },
  {
   "cell_type": "code",
   "execution_count": 53,
   "id": "978e342a-6c4d-4d43-9601-40a3f23a847f",
   "metadata": {},
   "outputs": [
    {
     "data": {
      "text/plain": [
       "array([0, 1, 2, 3, 4])"
      ]
     },
     "execution_count": 53,
     "metadata": {},
     "output_type": "execute_result"
    }
   ],
   "source": [
    "arr"
   ]
  },
  {
   "cell_type": "code",
   "execution_count": 57,
   "id": "687f6c2a-4586-418e-a590-57c43304eb59",
   "metadata": {},
   "outputs": [
    {
     "data": {
      "text/plain": [
       "array([[0, 1],\n",
       "       [1, 2],\n",
       "       [2, 3],\n",
       "       [3, 4]])"
      ]
     },
     "execution_count": 57,
     "metadata": {},
     "output_type": "execute_result"
    }
   ],
   "source": [
    "wind = np.lib.stride_tricks.sliding_window_view(arr, window_shape = 2)\n",
    "wind"
   ]
  },
  {
   "cell_type": "code",
   "execution_count": 59,
   "id": "7dbe1dc9-8c4e-4039-91bf-5b2bb7998cb3",
   "metadata": {},
   "outputs": [
    {
     "data": {
      "text/plain": [
       "array([0.5, 1.5, 2.5, 3.5])"
      ]
     },
     "execution_count": 59,
     "metadata": {},
     "output_type": "execute_result"
    }
   ],
   "source": [
    "np.mean(wind, axis = 1)"
   ]
  },
  {
   "cell_type": "code",
   "execution_count": 61,
   "id": "fa3e7f5d-ad86-4e00-94e9-c1e33039d318",
   "metadata": {},
   "outputs": [],
   "source": [
    "# 76. Consider a one-dimensional array Z, build a two-dimensional array whose first row is \n",
    "#     (Z[0],Z[1],Z[2]) and each subsequent row is  shifted by 1 (last row should be (Z[-3],Z[-2],Z[-1]) (★★★)"
   ]
  },
  {
   "cell_type": "code",
   "execution_count": 79,
   "id": "f603ea3c-10d1-41fb-aa98-a03c6eab0cc6",
   "metadata": {},
   "outputs": [
    {
     "data": {
      "text/plain": [
       "array([ 0,  1,  2,  3,  4,  5,  6,  7,  8,  9, 10, 11])"
      ]
     },
     "execution_count": 79,
     "metadata": {},
     "output_type": "execute_result"
    }
   ],
   "source": [
    "Z = np.arange(12)\n",
    "Z"
   ]
  },
  {
   "cell_type": "code",
   "execution_count": 81,
   "id": "7614d295-8597-4f63-8260-a956a983c64f",
   "metadata": {},
   "outputs": [
    {
     "data": {
      "text/plain": [
       "array([[ 0,  1,  2],\n",
       "       [ 3,  4,  5],\n",
       "       [ 6,  7,  8],\n",
       "       [ 9, 10, 11]])"
      ]
     },
     "execution_count": 81,
     "metadata": {},
     "output_type": "execute_result"
    }
   ],
   "source": [
    "np.reshape(Z, (-1, 3))"
   ]
  },
  {
   "cell_type": "code",
   "execution_count": null,
   "id": "5a38633d-4525-4b16-a217-ce9701644983",
   "metadata": {},
   "outputs": [],
   "source": [
    "# 77. How to negate a boolean, or to change the sign of a float inplace? (★★★)"
   ]
  },
  {
   "cell_type": "code",
   "execution_count": 85,
   "id": "17ffa880-5dfb-429d-bc79-783bb31a5f85",
   "metadata": {},
   "outputs": [
    {
     "data": {
      "text/plain": [
       "array([ True,  True, False,  True])"
      ]
     },
     "execution_count": 85,
     "metadata": {},
     "output_type": "execute_result"
    }
   ],
   "source": [
    "bool_arr = np.array([True, True, False, True])\n",
    "bool_arr"
   ]
  },
  {
   "cell_type": "code",
   "execution_count": 87,
   "id": "eb1485e0-b4ed-469d-a997-f18de1923272",
   "metadata": {},
   "outputs": [
    {
     "data": {
      "text/plain": [
       "array([False, False,  True, False])"
      ]
     },
     "execution_count": 87,
     "metadata": {},
     "output_type": "execute_result"
    }
   ],
   "source": [
    "~bool_arr"
   ]
  },
  {
   "cell_type": "code",
   "execution_count": 89,
   "id": "a413baa3-1b16-4593-9cfc-d4aa8200354b",
   "metadata": {},
   "outputs": [
    {
     "data": {
      "text/plain": [
       "array([-0.43,  0.89])"
      ]
     },
     "execution_count": 89,
     "metadata": {},
     "output_type": "execute_result"
    }
   ],
   "source": [
    "float_arr = np.array([-0.43, 0.89])\n",
    "float_arr"
   ]
  },
  {
   "cell_type": "code",
   "execution_count": 95,
   "id": "bd468aee-71a5-40fe-aa83-2dea2811b512",
   "metadata": {},
   "outputs": [
    {
     "data": {
      "text/plain": [
       "array([ 0.43, -0.89])"
      ]
     },
     "execution_count": 95,
     "metadata": {},
     "output_type": "execute_result"
    }
   ],
   "source": [
    "float_arr * (-1)"
   ]
  },
  {
   "cell_type": "code",
   "execution_count": null,
   "id": "0d2d90f9-306b-4b0e-8bf7-2e17b444e737",
   "metadata": {},
   "outputs": [],
   "source": [
    "# 71. Consider an array of dimension (5,5,3), how to mulitply it by an array with dimensions (5,5)? (★★★)"
   ]
  },
  {
   "cell_type": "code",
   "execution_count": 251,
   "id": "79f102cc-d38c-4515-b41c-1d1f337909dd",
   "metadata": {},
   "outputs": [
    {
     "name": "stdout",
     "output_type": "stream",
     "text": [
      "[[[2 2 3]\n",
      "  [3 2 4]\n",
      "  [4 3 4]\n",
      "  [0 4 3]\n",
      "  [1 2 2]]\n",
      "\n",
      " [[2 3 3]\n",
      "  [4 1 1]\n",
      "  [1 4 3]\n",
      "  [3 1 1]\n",
      "  [3 4 4]]\n",
      "\n",
      " [[2 4 0]\n",
      "  [4 1 2]\n",
      "  [3 4 1]\n",
      "  [4 2 3]\n",
      "  [4 1 2]]\n",
      "\n",
      " [[0 2 2]\n",
      "  [3 0 3]\n",
      "  [1 2 0]\n",
      "  [0 1 0]\n",
      "  [3 2 1]]\n",
      "\n",
      " [[2 4 0]\n",
      "  [1 4 3]\n",
      "  [2 3 2]\n",
      "  [0 4 3]\n",
      "  [3 3 3]]]\n",
      "[[1 1 0 1 1]\n",
      " [4 1 4 4 3]\n",
      " [2 3 4 0 0]\n",
      " [3 1 3 4 2]\n",
      " [3 2 1 3 4]]\n"
     ]
    }
   ],
   "source": [
    "arr_3_dem = np.random.randint(0,5, (5,5,3))\n",
    "arr_2_dem = np.random.randint(0,5, (5,5))\n",
    "print(arr_3_dem)\n",
    "print(arr_2_dem)"
   ]
  },
  {
   "cell_type": "code",
   "execution_count": 261,
   "id": "a9eef9eb-b68c-4c84-a553-2c75bf468fb4",
   "metadata": {},
   "outputs": [
    {
     "name": "stdout",
     "output_type": "stream",
     "text": [
      "(5, 5, 1)\n",
      "[[[1]\n",
      "  [1]\n",
      "  [0]\n",
      "  [1]\n",
      "  [1]]\n",
      "\n",
      " [[4]\n",
      "  [1]\n",
      "  [4]\n",
      "  [4]\n",
      "  [3]]\n",
      "\n",
      " [[2]\n",
      "  [3]\n",
      "  [4]\n",
      "  [0]\n",
      "  [0]]\n",
      "\n",
      " [[3]\n",
      "  [1]\n",
      "  [3]\n",
      "  [4]\n",
      "  [2]]\n",
      "\n",
      " [[3]\n",
      "  [2]\n",
      "  [1]\n",
      "  [3]\n",
      "  [4]]]\n"
     ]
    }
   ],
   "source": [
    "reshaped_arr_2_dem = arr_2_dem[:,:,np.newaxis]\n",
    "print(np.shape(reshaped_arr_2_dem ))\n",
    "print(reshaped_arr_2_dem)"
   ]
  },
  {
   "cell_type": "code",
   "execution_count": 265,
   "id": "5d51550d-bb2e-47e3-8364-1c8b2c8f3c29",
   "metadata": {},
   "outputs": [
    {
     "data": {
      "text/plain": [
       "array([[[ 2,  2,  3],\n",
       "        [ 3,  2,  4],\n",
       "        [ 0,  0,  0],\n",
       "        [ 0,  4,  3],\n",
       "        [ 1,  2,  2]],\n",
       "\n",
       "       [[ 8, 12, 12],\n",
       "        [ 4,  1,  1],\n",
       "        [ 4, 16, 12],\n",
       "        [12,  4,  4],\n",
       "        [ 9, 12, 12]],\n",
       "\n",
       "       [[ 4,  8,  0],\n",
       "        [12,  3,  6],\n",
       "        [12, 16,  4],\n",
       "        [ 0,  0,  0],\n",
       "        [ 0,  0,  0]],\n",
       "\n",
       "       [[ 0,  6,  6],\n",
       "        [ 3,  0,  3],\n",
       "        [ 3,  6,  0],\n",
       "        [ 0,  4,  0],\n",
       "        [ 6,  4,  2]],\n",
       "\n",
       "       [[ 6, 12,  0],\n",
       "        [ 2,  8,  6],\n",
       "        [ 2,  3,  2],\n",
       "        [ 0, 12,  9],\n",
       "        [12, 12, 12]]])"
      ]
     },
     "execution_count": 265,
     "metadata": {},
     "output_type": "execute_result"
    }
   ],
   "source": [
    "result = reshaped_arr_2_dem * arr_3_dem\n",
    "result"
   ]
  },
  {
   "cell_type": "code",
   "execution_count": null,
   "id": "efe3612c-3b74-4b29-bfef-0d5af708f7f4",
   "metadata": {},
   "outputs": [],
   "source": [
    "# 69. How to get the diagonal of a dot product? (★★★)"
   ]
  },
  {
   "cell_type": "code",
   "execution_count": 233,
   "id": "c9179c47-7386-47e4-ac07-7dc3dacb8ab0",
   "metadata": {},
   "outputs": [
    {
     "name": "stdout",
     "output_type": "stream",
     "text": [
      "[[3 3 0 4 0]\n",
      " [0 0 0 0 0]\n",
      " [2 0 1 4 0]\n",
      " [2 1 0 3 1]]\n",
      "[[4 3 4 4]\n",
      " [2 1 1 2]\n",
      " [1 4 4 4]\n",
      " [0 1 4 4]\n",
      " [1 2 2 1]]\n"
     ]
    }
   ],
   "source": [
    "i_A = 4\n",
    "j_A = 5\n",
    "A = np.random.randint(0,5, (i_A,j_A))\n",
    "B = np.random.randint(0,5, (j_A,i_A))\n",
    "print(A)\n",
    "print(B)"
   ]
  },
  {
   "cell_type": "code",
   "execution_count": 247,
   "id": "d1930f0e-5369-4dd1-8367-c411cc00ba5c",
   "metadata": {},
   "outputs": [
    {
     "data": {
      "text/plain": [
       "array([[18, 16, 31, 34],\n",
       "       [ 0,  0,  0,  0],\n",
       "       [ 9, 14, 28, 28],\n",
       "       [11, 12, 23, 23]])"
      ]
     },
     "execution_count": 247,
     "metadata": {},
     "output_type": "execute_result"
    }
   ],
   "source": [
    "#for checking (get result of matrixes product)\n",
    "np.einsum('ij,jk->ik',A,B)"
   ]
  },
  {
   "cell_type": "code",
   "execution_count": 245,
   "id": "0c71b61c-f5ba-42eb-bfa3-0eb79ee59792",
   "metadata": {},
   "outputs": [
    {
     "data": {
      "text/plain": [
       "array([18,  0, 28, 23])"
      ]
     },
     "execution_count": 245,
     "metadata": {},
     "output_type": "execute_result"
    }
   ],
   "source": [
    "np.einsum('ij,ji->i',A,B)"
   ]
  },
  {
   "cell_type": "code",
   "execution_count": null,
   "id": "b5dbf9ca-141d-4c76-bb5a-83be09fa45e4",
   "metadata": {},
   "outputs": [],
   "source": [
    "#80. Consider an arbitrary array, write a function that extract a subpart with \n",
    "#a fixed shape and centered on a given element (pad with a `fill` value when necessary) (★★★)"
   ]
  },
  {
   "cell_type": "code",
   "execution_count": 27,
   "id": "283c5263-d842-49e0-9930-ea29156d51a3",
   "metadata": {},
   "outputs": [
    {
     "data": {
      "text/plain": [
       "array([[7, 4, 8, 5],\n",
       "       [7, 3, 7, 8],\n",
       "       [5, 4, 8, 8],\n",
       "       [3, 6, 5, 2]])"
      ]
     },
     "execution_count": 27,
     "metadata": {},
     "output_type": "execute_result"
    }
   ],
   "source": [
    "np.random.seed(seed= 42)\n",
    "frst_arr = np.random.randint(1, 10, (4,4))\n",
    "new_centr = (2,3)\n",
    "shape = (3,3)\n",
    "fill = 1\n",
    "frst_arr"
   ]
  },
  {
   "cell_type": "code",
   "execution_count": 91,
   "id": "98f8408b-4e7e-43e6-bd21-2bc7e3473838",
   "metadata": {},
   "outputs": [
    {
     "data": {
      "text/plain": [
       "array([1, 2])"
      ]
     },
     "execution_count": 91,
     "metadata": {},
     "output_type": "execute_result"
    }
   ],
   "source": [
    "shape = np.array(shape)\n",
    "new_centr = np.array(new_centr)\n",
    "start_ind = np.maximum((2 * new_centr - shape + 1)//2, 0)\n",
    "start_ind"
   ]
  },
  {
   "cell_type": "code",
   "execution_count": 93,
   "id": "348236fe-8921-455b-9fb7-a939a8bd2eaf",
   "metadata": {},
   "outputs": [
    {
     "data": {
      "text/plain": [
       "array([3, 3])"
      ]
     },
     "execution_count": 93,
     "metadata": {},
     "output_type": "execute_result"
    }
   ],
   "source": [
    "end_ind = np.minimum((2 * new_centr + shape - 1)//2, shape)\n",
    "end_ind"
   ]
  },
  {
   "cell_type": "code",
   "execution_count": 111,
   "id": "b4351487-aa3e-4364-9ec6-74863cc24dc7",
   "metadata": {},
   "outputs": [],
   "source": [
    "new_arr = np.full(shape, fill)"
   ]
  },
  {
   "cell_type": "code",
   "execution_count": 113,
   "id": "65704838-739c-4088-bf7c-f8a307e7e24b",
   "metadata": {},
   "outputs": [
    {
     "data": {
      "text/plain": [
       "array([[7, 8, 1],\n",
       "       [8, 8, 1],\n",
       "       [5, 2, 1]])"
      ]
     },
     "execution_count": 113,
     "metadata": {},
     "output_type": "execute_result"
    }
   ],
   "source": [
    "insert_start = np.maximum((shape-1 - (end_ind - start_ind)) // 2, 0)\n",
    "insert_end = insert_start + (end_ind - start_ind)\n",
    "new_arr[insert_start[0]:insert_end[0]+1, insert_start[1]:insert_end[1]+1] = frst_arr[start_ind[0]:end_ind[0] + 1, start_ind[1]:end_ind[1] + 1]\n",
    "new_arr"
   ]
  },
  {
   "cell_type": "code",
   "execution_count": null,
   "id": "9caacc88-9703-4d73-8582-b942f1862f6b",
   "metadata": {},
   "outputs": [],
   "source": [
    "#81. Consider an array Z = [1,2,3,4,5,6,7,8,9,10,11,12,13,14], how to generate an \n",
    "#array R = [[1,2,3,4], [2,3,4,5], [3,4,5,6], ..., [11,12,13,14]]? (★★★)"
   ]
  },
  {
   "cell_type": "code",
   "execution_count": 117,
   "id": "e6e73aec-2779-4471-81b3-2f35820d72f0",
   "metadata": {},
   "outputs": [
    {
     "data": {
      "text/plain": [
       "array([[ 1,  2,  3,  4],\n",
       "       [ 2,  3,  4,  5],\n",
       "       [ 3,  4,  5,  6],\n",
       "       [ 4,  5,  6,  7],\n",
       "       [ 5,  6,  7,  8],\n",
       "       [ 6,  7,  8,  9],\n",
       "       [ 7,  8,  9, 10],\n",
       "       [ 8,  9, 10, 11],\n",
       "       [ 9, 10, 11, 12],\n",
       "       [10, 11, 12, 13],\n",
       "       [11, 12, 13, 14]])"
      ]
     },
     "execution_count": 117,
     "metadata": {},
     "output_type": "execute_result"
    }
   ],
   "source": [
    "Z = [1,2,3,4,5,6,7,8,9,10,11,12,13,14] \n",
    "shift = 4\n",
    "R = np.array([Z[k: k+ shift] for k in range(len(Z) - shift + 1)])\n",
    "R"
   ]
  },
  {
   "cell_type": "code",
   "execution_count": null,
   "id": "328970fa-b26b-4462-8eb7-6e6e0598f56d",
   "metadata": {},
   "outputs": [],
   "source": [
    "#82. Compute a matrix rank (★★★)"
   ]
  },
  {
   "cell_type": "code",
   "execution_count": 123,
   "id": "5eeb1c83-3a85-4704-a3ea-d148d06bf8db",
   "metadata": {},
   "outputs": [
    {
     "data": {
      "text/plain": [
       "2"
      ]
     },
     "execution_count": 123,
     "metadata": {},
     "output_type": "execute_result"
    }
   ],
   "source": [
    "ar = np.array([[1,2,1], [-2,-3,1], [3,5,0]])\n",
    "np.linalg.matrix_rank(ar)"
   ]
  },
  {
   "cell_type": "code",
   "execution_count": null,
   "id": "0e48f66a-b845-48ab-b6ea-2dac104ccb55",
   "metadata": {},
   "outputs": [],
   "source": [
    "# 83. How to find the most frequent value in an array? (★★★)"
   ]
  },
  {
   "cell_type": "code",
   "execution_count": 129,
   "id": "4610f4c5-f309-4a5a-821c-56e78e8caad9",
   "metadata": {},
   "outputs": [
    {
     "data": {
      "text/plain": [
       "array([[4, 4, 3, 4, 3, 3, 3, 3, 3, 4]])"
      ]
     },
     "execution_count": 129,
     "metadata": {},
     "output_type": "execute_result"
    }
   ],
   "source": [
    "arr = np.random.randint(3,5, (1, 10))\n",
    "arr"
   ]
  },
  {
   "cell_type": "code",
   "execution_count": 131,
   "id": "7bab1ce4-6535-40ea-a176-05d697c13cc6",
   "metadata": {},
   "outputs": [
    {
     "data": {
      "text/plain": [
       "3"
      ]
     },
     "execution_count": 131,
     "metadata": {},
     "output_type": "execute_result"
    }
   ],
   "source": [
    "unique_val, count_un_val = np.unique(arr, return_counts = True)\n",
    "most_freq_val = unique_val[np.argmax(count_un_val)]\n",
    "most_freq_val"
   ]
  },
  {
   "cell_type": "code",
   "execution_count": null,
   "id": "3fddee4b-cf83-47f4-8231-ed4902599299",
   "metadata": {},
   "outputs": [],
   "source": [
    "#84. Extract all the contiguous 3x3 blocks from a random 10x10 matrix (★★★)"
   ]
  },
  {
   "cell_type": "code",
   "execution_count": 135,
   "id": "23d01ed2-5b47-4884-8ac1-1e46e4c9dc56",
   "metadata": {},
   "outputs": [
    {
     "data": {
      "text/plain": [
       "array([[ 4, 41, 38, 57, 40, 27,  6,  8,  7, 11],\n",
       "       [33, 32, 47, 54, 22, 23, 36, 34, 43, 39],\n",
       "       [21, 26, 34,  0, 34, 36, 46, 13,  2,  0],\n",
       "       [ 4, 25, 54, 13, 38, 26,  8, 14, 14, 25],\n",
       "       [41, 59, 12, 50, 31, 38, 48, 51, 31,  3],\n",
       "       [29, 36, 22, 38, 44, 14, 42, 28, 35, 12],\n",
       "       [31,  6, 58, 50, 21, 27,  1, 41, 44, 56],\n",
       "       [52,  5, 27, 27, 43, 43, 19, 29, 10, 57],\n",
       "       [54, 27, 24, 38, 32,  0, 56, 26, 56, 51],\n",
       "       [12, 40,  2, 38,  5,  7, 26,  8, 36, 32]])"
      ]
     },
     "execution_count": 135,
     "metadata": {},
     "output_type": "execute_result"
    }
   ],
   "source": [
    "matr = np.random.randint(0,60, (10, 10))\n",
    "matr"
   ]
  },
  {
   "cell_type": "code",
   "execution_count": 137,
   "id": "f79c278d-2365-4bb0-9794-ed25708ed7f1",
   "metadata": {},
   "outputs": [
    {
     "data": {
      "text/plain": [
       "array([[[ 4, 41, 38],\n",
       "        [33, 32, 47],\n",
       "        [21, 26, 34]],\n",
       "\n",
       "       [[41, 38, 57],\n",
       "        [32, 47, 54],\n",
       "        [26, 34,  0]],\n",
       "\n",
       "       [[38, 57, 40],\n",
       "        [47, 54, 22],\n",
       "        [34,  0, 34]],\n",
       "\n",
       "       [[57, 40, 27],\n",
       "        [54, 22, 23],\n",
       "        [ 0, 34, 36]],\n",
       "\n",
       "       [[40, 27,  6],\n",
       "        [22, 23, 36],\n",
       "        [34, 36, 46]],\n",
       "\n",
       "       [[27,  6,  8],\n",
       "        [23, 36, 34],\n",
       "        [36, 46, 13]],\n",
       "\n",
       "       [[ 6,  8,  7],\n",
       "        [36, 34, 43],\n",
       "        [46, 13,  2]],\n",
       "\n",
       "       [[ 8,  7, 11],\n",
       "        [34, 43, 39],\n",
       "        [13,  2,  0]],\n",
       "\n",
       "       [[33, 32, 47],\n",
       "        [21, 26, 34],\n",
       "        [ 4, 25, 54]],\n",
       "\n",
       "       [[32, 47, 54],\n",
       "        [26, 34,  0],\n",
       "        [25, 54, 13]],\n",
       "\n",
       "       [[47, 54, 22],\n",
       "        [34,  0, 34],\n",
       "        [54, 13, 38]],\n",
       "\n",
       "       [[54, 22, 23],\n",
       "        [ 0, 34, 36],\n",
       "        [13, 38, 26]],\n",
       "\n",
       "       [[22, 23, 36],\n",
       "        [34, 36, 46],\n",
       "        [38, 26,  8]],\n",
       "\n",
       "       [[23, 36, 34],\n",
       "        [36, 46, 13],\n",
       "        [26,  8, 14]],\n",
       "\n",
       "       [[36, 34, 43],\n",
       "        [46, 13,  2],\n",
       "        [ 8, 14, 14]],\n",
       "\n",
       "       [[34, 43, 39],\n",
       "        [13,  2,  0],\n",
       "        [14, 14, 25]],\n",
       "\n",
       "       [[21, 26, 34],\n",
       "        [ 4, 25, 54],\n",
       "        [41, 59, 12]],\n",
       "\n",
       "       [[26, 34,  0],\n",
       "        [25, 54, 13],\n",
       "        [59, 12, 50]],\n",
       "\n",
       "       [[34,  0, 34],\n",
       "        [54, 13, 38],\n",
       "        [12, 50, 31]],\n",
       "\n",
       "       [[ 0, 34, 36],\n",
       "        [13, 38, 26],\n",
       "        [50, 31, 38]],\n",
       "\n",
       "       [[34, 36, 46],\n",
       "        [38, 26,  8],\n",
       "        [31, 38, 48]],\n",
       "\n",
       "       [[36, 46, 13],\n",
       "        [26,  8, 14],\n",
       "        [38, 48, 51]],\n",
       "\n",
       "       [[46, 13,  2],\n",
       "        [ 8, 14, 14],\n",
       "        [48, 51, 31]],\n",
       "\n",
       "       [[13,  2,  0],\n",
       "        [14, 14, 25],\n",
       "        [51, 31,  3]],\n",
       "\n",
       "       [[ 4, 25, 54],\n",
       "        [41, 59, 12],\n",
       "        [29, 36, 22]],\n",
       "\n",
       "       [[25, 54, 13],\n",
       "        [59, 12, 50],\n",
       "        [36, 22, 38]],\n",
       "\n",
       "       [[54, 13, 38],\n",
       "        [12, 50, 31],\n",
       "        [22, 38, 44]],\n",
       "\n",
       "       [[13, 38, 26],\n",
       "        [50, 31, 38],\n",
       "        [38, 44, 14]],\n",
       "\n",
       "       [[38, 26,  8],\n",
       "        [31, 38, 48],\n",
       "        [44, 14, 42]],\n",
       "\n",
       "       [[26,  8, 14],\n",
       "        [38, 48, 51],\n",
       "        [14, 42, 28]],\n",
       "\n",
       "       [[ 8, 14, 14],\n",
       "        [48, 51, 31],\n",
       "        [42, 28, 35]],\n",
       "\n",
       "       [[14, 14, 25],\n",
       "        [51, 31,  3],\n",
       "        [28, 35, 12]],\n",
       "\n",
       "       [[41, 59, 12],\n",
       "        [29, 36, 22],\n",
       "        [31,  6, 58]],\n",
       "\n",
       "       [[59, 12, 50],\n",
       "        [36, 22, 38],\n",
       "        [ 6, 58, 50]],\n",
       "\n",
       "       [[12, 50, 31],\n",
       "        [22, 38, 44],\n",
       "        [58, 50, 21]],\n",
       "\n",
       "       [[50, 31, 38],\n",
       "        [38, 44, 14],\n",
       "        [50, 21, 27]],\n",
       "\n",
       "       [[31, 38, 48],\n",
       "        [44, 14, 42],\n",
       "        [21, 27,  1]],\n",
       "\n",
       "       [[38, 48, 51],\n",
       "        [14, 42, 28],\n",
       "        [27,  1, 41]],\n",
       "\n",
       "       [[48, 51, 31],\n",
       "        [42, 28, 35],\n",
       "        [ 1, 41, 44]],\n",
       "\n",
       "       [[51, 31,  3],\n",
       "        [28, 35, 12],\n",
       "        [41, 44, 56]],\n",
       "\n",
       "       [[29, 36, 22],\n",
       "        [31,  6, 58],\n",
       "        [52,  5, 27]],\n",
       "\n",
       "       [[36, 22, 38],\n",
       "        [ 6, 58, 50],\n",
       "        [ 5, 27, 27]],\n",
       "\n",
       "       [[22, 38, 44],\n",
       "        [58, 50, 21],\n",
       "        [27, 27, 43]],\n",
       "\n",
       "       [[38, 44, 14],\n",
       "        [50, 21, 27],\n",
       "        [27, 43, 43]],\n",
       "\n",
       "       [[44, 14, 42],\n",
       "        [21, 27,  1],\n",
       "        [43, 43, 19]],\n",
       "\n",
       "       [[14, 42, 28],\n",
       "        [27,  1, 41],\n",
       "        [43, 19, 29]],\n",
       "\n",
       "       [[42, 28, 35],\n",
       "        [ 1, 41, 44],\n",
       "        [19, 29, 10]],\n",
       "\n",
       "       [[28, 35, 12],\n",
       "        [41, 44, 56],\n",
       "        [29, 10, 57]],\n",
       "\n",
       "       [[31,  6, 58],\n",
       "        [52,  5, 27],\n",
       "        [54, 27, 24]],\n",
       "\n",
       "       [[ 6, 58, 50],\n",
       "        [ 5, 27, 27],\n",
       "        [27, 24, 38]],\n",
       "\n",
       "       [[58, 50, 21],\n",
       "        [27, 27, 43],\n",
       "        [24, 38, 32]],\n",
       "\n",
       "       [[50, 21, 27],\n",
       "        [27, 43, 43],\n",
       "        [38, 32,  0]],\n",
       "\n",
       "       [[21, 27,  1],\n",
       "        [43, 43, 19],\n",
       "        [32,  0, 56]],\n",
       "\n",
       "       [[27,  1, 41],\n",
       "        [43, 19, 29],\n",
       "        [ 0, 56, 26]],\n",
       "\n",
       "       [[ 1, 41, 44],\n",
       "        [19, 29, 10],\n",
       "        [56, 26, 56]],\n",
       "\n",
       "       [[41, 44, 56],\n",
       "        [29, 10, 57],\n",
       "        [26, 56, 51]],\n",
       "\n",
       "       [[52,  5, 27],\n",
       "        [54, 27, 24],\n",
       "        [12, 40,  2]],\n",
       "\n",
       "       [[ 5, 27, 27],\n",
       "        [27, 24, 38],\n",
       "        [40,  2, 38]],\n",
       "\n",
       "       [[27, 27, 43],\n",
       "        [24, 38, 32],\n",
       "        [ 2, 38,  5]],\n",
       "\n",
       "       [[27, 43, 43],\n",
       "        [38, 32,  0],\n",
       "        [38,  5,  7]],\n",
       "\n",
       "       [[43, 43, 19],\n",
       "        [32,  0, 56],\n",
       "        [ 5,  7, 26]],\n",
       "\n",
       "       [[43, 19, 29],\n",
       "        [ 0, 56, 26],\n",
       "        [ 7, 26,  8]],\n",
       "\n",
       "       [[19, 29, 10],\n",
       "        [56, 26, 56],\n",
       "        [26,  8, 36]],\n",
       "\n",
       "       [[29, 10, 57],\n",
       "        [26, 56, 51],\n",
       "        [ 8, 36, 32]]])"
      ]
     },
     "execution_count": 137,
     "metadata": {},
     "output_type": "execute_result"
    }
   ],
   "source": [
    "block = np.array([matr[i: i+3, j:j+3] for i in range(np.shape(matr)[0] - 2) for j in range(np.shape(matr)[0] - 2)])\n",
    "block"
   ]
  },
  {
   "cell_type": "code",
   "execution_count": null,
   "id": "ce3d2ebf-efd0-457f-b99f-a6916e31431b",
   "metadata": {},
   "outputs": [],
   "source": [
    "# 85. Create a 2D array subclass such that Z[i,j] == Z[j,i] (★★★)"
   ]
  },
  {
   "cell_type": "code",
   "execution_count": 174,
   "id": "e559a3ba-1c65-462c-a961-d27bfee19d82",
   "metadata": {},
   "outputs": [
    {
     "data": {
      "text/plain": [
       "Symmetric([[ 0., 20.,  0.,  0.,  0.,  0.],\n",
       "           [20.,  0.,  6.,  0.,  0.,  0.],\n",
       "           [ 0.,  6.,  0.,  0.,  0.,  0.],\n",
       "           [ 0.,  0.,  0.,  0.,  0.,  0.],\n",
       "           [ 0.,  0.,  0.,  0.,  0.,  0.],\n",
       "           [ 0.,  0.,  0.,  0.,  0.,  0.]])"
      ]
     },
     "execution_count": 174,
     "metadata": {},
     "output_type": "execute_result"
    }
   ],
   "source": [
    "class Symmetric(np.ndarray):\n",
    "    def __setitem__(self, index, value):\n",
    "        i, j = index\n",
    "        super(Symmetric, self).__setitem__((i, j), value)\n",
    "        super(Symmetric, self).__setitem__((j, i), value)\n",
    "size = 6\n",
    "Z = Symmetric((size, size)) \n",
    "Z[0, 1] = 20  \n",
    "Z[2, 1] = 6  \n",
    "Z"
   ]
  },
  {
   "cell_type": "code",
   "execution_count": 178,
   "id": "e7b554e7-a0b9-4248-a360-038f01ca896d",
   "metadata": {},
   "outputs": [],
   "source": [
    "#86. Consider a set of p matrices with shape (n,n) and a set of p vectors with shape (n,1). \n",
    "#How to compute the sum of of the p matrix products at once? (result has shape (n,1)) (★★★)"
   ]
  },
  {
   "cell_type": "code",
   "execution_count": 57,
   "id": "23d29523-e881-4e0f-8982-9bb2ca071f0f",
   "metadata": {},
   "outputs": [],
   "source": [
    "p = 3\n",
    "n = 4"
   ]
  },
  {
   "cell_type": "code",
   "execution_count": 61,
   "id": "838d044b-f7c1-4ec2-bc86-caba24bf48dc",
   "metadata": {},
   "outputs": [
    {
     "name": "stdout",
     "output_type": "stream",
     "text": [
      "[[[ 8 17  6 12]\n",
      "  [ 7  0  5  5]\n",
      "  [12 10  8 13]\n",
      "  [ 5  9 17 11]]\n",
      "\n",
      " [[10  0  7 17]\n",
      "  [ 3  3  0 15]\n",
      "  [ 6  3  3 19]\n",
      "  [ 6 15  0 10]]\n",
      "\n",
      " [[17 10  3  0]\n",
      "  [ 6 12 15  6]\n",
      "  [ 9 12 18  9]\n",
      "  [18 18  5  2]]]\n",
      "[[[14]\n",
      "  [ 7]\n",
      "  [ 8]\n",
      "  [10]]\n",
      "\n",
      " [[15]\n",
      "  [12]\n",
      "  [ 0]\n",
      "  [15]]\n",
      "\n",
      " [[16]\n",
      "  [15]\n",
      "  [ 4]\n",
      "  [17]]]\n"
     ]
    }
   ],
   "source": [
    "arr_matr = np.random.randint(0, 20,(p, n, n))\n",
    "p = np.random.randint(0, 20,(p, n, 1))\n",
    "print(arr_matr)\n",
    "print(p)"
   ]
  },
  {
   "cell_type": "code",
   "execution_count": 87,
   "id": "ac1acd82-6904-4373-823e-8fe0e0b7418f",
   "metadata": {},
   "outputs": [
    {
     "data": {
      "text/plain": [
       "array([[1238],\n",
       "       [ 932],\n",
       "       [1392],\n",
       "       [1411]])"
      ]
     },
     "execution_count": 87,
     "metadata": {},
     "output_type": "execute_result"
    }
   ],
   "source": [
    "result = np.tensordot(arr_matr, p, axes=[[0, 2], [0, 1]])\n",
    "result"
   ]
  },
  {
   "cell_type": "code",
   "execution_count": null,
   "id": "3bf7334a-c08b-49c0-9c74-0562a0cb9dc5",
   "metadata": {},
   "outputs": [],
   "source": [
    "# 87. Consider a 16x16 array, how to get the block-sum (block size is 4x4)? (★★★)"
   ]
  },
  {
   "cell_type": "code",
   "execution_count": 90,
   "id": "2d073e19-dcca-40ca-a8bf-b0aec8dd3d25",
   "metadata": {},
   "outputs": [],
   "source": [
    "n = 16\n",
    "shift = 4\n",
    "A = np.random.randint(0,30, (n, n))\n",
    "sum_block = np.array([np.sum(A[shift*i:shift*(i + 1),shift*j:shift*(j + 1)]) for i in range(n//shift) for j in range(n//shift)]).reshape((n//shift,n//shift))"
   ]
  },
  {
   "cell_type": "code",
   "execution_count": 92,
   "id": "49d3964f-a58a-4354-9fae-76574e77958a",
   "metadata": {},
   "outputs": [
    {
     "name": "stdout",
     "output_type": "stream",
     "text": [
      "[[ 0  0 20  4  0 25 16 25  8  8  6 23  0 28 10 25]\n",
      " [ 1  7 19 17 13  9 22  9  7 26  5  0 10 10 23 18]\n",
      " [12 15 28 11 12 15  4 18  3 20 25 12  0 28 24  5]\n",
      " [ 3 12 20 10  2 19 19 28  4  8 22  4  5 26 13  0]\n",
      " [27  1 14  6  9  8 27  7  8  6 28 25 20 19  6 26]\n",
      " [20 12  9 29 21  6  1 10 28 26 26 26  1  3 17 12]\n",
      " [ 8 19 20 29 26 10 27 14 23 25 19 28  9 19  4 29]\n",
      " [15 13 20  5  1 23 21 15 23  8 18 15  8 11 24  3]\n",
      " [27  2  6 29  5  5 13 11 28  4 13 15  6 12  1  6]\n",
      " [14 22 19 18 12  8 16 29  5  3 18 28 24  3 21 26]\n",
      " [ 0 16  6  2 29 28 13 23 18  0 17 14 25 18  8 13]\n",
      " [ 4 22  9 20 13 25 29 24 26 13 24  7 23 22 21 15]\n",
      " [13  7  0  5 26  4 28 13 14 25 19  1 12  9 10  8]\n",
      " [ 5 20 24 15  7 21 13 27 10 27  8 18 12 24 12  6]\n",
      " [ 1 26 20  5 28 11 10 22 18  9  7 24  5  6 26  9]\n",
      " [16  3  7 15 25  3  0 24 24 19  1 25 29 13  3 27]]\n",
      "[[179 236 181 225]\n",
      " [247 226 332 211]\n",
      " [216 283 233 244]\n",
      " [182 262 249 211]]\n"
     ]
    }
   ],
   "source": [
    "print(A)\n",
    "print(sum_block)"
   ]
  },
  {
   "cell_type": "code",
   "execution_count": null,
   "id": "37cf6433-082b-4cce-8a98-9e805abb81dd",
   "metadata": {},
   "outputs": [],
   "source": [
    "#88. How to implement the Game of Life using numpy arrays? (★★★)"
   ]
  },
  {
   "cell_type": "code",
   "execution_count": 5,
   "id": "d42c3046-ade3-49e7-9c4d-45103fe71e6c",
   "metadata": {},
   "outputs": [
    {
     "name": "stdout",
     "output_type": "stream",
     "text": [
      "Previous\n",
      "[[1 0 0 1]\n",
      " [0 0 1 0]\n",
      " [0 1 1 1]\n",
      " [1 1 1 1]]\n",
      "changed_A\n",
      "[[0 0 0 0]\n",
      " [0 0 0 0]\n",
      " [1 0 0 0]\n",
      " [1 0 0 1]]\n"
     ]
    }
   ],
   "source": [
    "n = 4\n",
    "A = np.random.randint(0, 2, (n, n))\n",
    "changed_A = A.copy()\n",
    "print(\"Previous\")\n",
    "print(A)\n",
    "for i in range(np.shape(A)[0]):\n",
    "    for j in range(np.shape(A)[1]):\n",
    "        count_neigh = np.sum(A[max(0, i-1):min(i+2,np.shape(A)[0]),max(0, j-1):min(j+2,np.shape(A)[1])]) - A[i][j]\n",
    "        if changed_A[i][j] == 1:\n",
    "            if count_neigh < 2 or count_neigh > 3:\n",
    "                changed_A[i][j] = 0\n",
    "        elif count_neigh == 3:\n",
    "            changed_A[i][j] = 1\n",
    "print('changed_A')\n",
    "print(changed_A)"
   ]
  },
  {
   "cell_type": "code",
   "execution_count": null,
   "id": "b5c9c8ad-8a14-4332-9b00-ee4619147370",
   "metadata": {},
   "outputs": [],
   "source": [
    "# 89. How to get the n largest values of an array (★★★)"
   ]
  },
  {
   "cell_type": "code",
   "execution_count": 31,
   "id": "4f998f00-fc0a-4076-8e12-8ec37e382c3d",
   "metadata": {},
   "outputs": [
    {
     "data": {
      "text/plain": [
       "array([15,  7, 48, 85, 16, 77, 52, 43, 65, 52])"
      ]
     },
     "execution_count": 31,
     "metadata": {},
     "output_type": "execute_result"
    }
   ],
   "source": [
    "n = 4\n",
    "ar = np.random.randint(0,89, (10,))\n",
    "ar"
   ]
  },
  {
   "cell_type": "code",
   "execution_count": 42,
   "id": "783ef850-7777-429a-9a3f-4f73d4b7d0d8",
   "metadata": {},
   "outputs": [
    {
     "name": "stdout",
     "output_type": "stream",
     "text": [
      "[65 85 77 52]\n"
     ]
    }
   ],
   "source": [
    "index = np.argpartition(-ar, n)\n",
    "print(ar[index][:n])"
   ]
  },
  {
   "cell_type": "code",
   "execution_count": null,
   "id": "86c9368c-d112-4fc1-b650-0f6750dafa6d",
   "metadata": {},
   "outputs": [],
   "source": [
    "# 90. Given an arbitrary number of vectors, build the cartesian product (every combinations of every item) (★★★)"
   ]
  },
  {
   "cell_type": "code",
   "execution_count": 78,
   "id": "bde66e73-111c-4cfc-beaa-41d0d7f3b2c1",
   "metadata": {},
   "outputs": [
    {
     "data": {
      "text/plain": [
       "array([[10, 11],\n",
       "       [24, 18]])"
      ]
     },
     "execution_count": 78,
     "metadata": {},
     "output_type": "execute_result"
    }
   ],
   "source": [
    "n = 2\n",
    "vect = np.random.randint(0, 28, (n, 2)) \n",
    "vect"
   ]
  },
  {
   "cell_type": "code",
   "execution_count": 106,
   "id": "e70a3c6b-0ba9-4c8c-810a-9b940f7d9fc8",
   "metadata": {},
   "outputs": [
    {
     "data": {
      "text/plain": [
       "array([[10, 24],\n",
       "       [10, 18],\n",
       "       [11, 24],\n",
       "       [11, 18]])"
      ]
     },
     "execution_count": 106,
     "metadata": {},
     "output_type": "execute_result"
    }
   ],
   "source": [
    "transpose_arr = np.array(np.meshgrid(vect[0], vect[1])).T\n",
    "new_trans = transpose_arr.reshape(-1, n)\n",
    "new_trans"
   ]
  },
  {
   "cell_type": "code",
   "execution_count": null,
   "id": "b1052098-b43f-4350-bb93-ff9118e0a3c7",
   "metadata": {},
   "outputs": [],
   "source": [
    "## 91. How to create a record array from a regular array? (★★★)"
   ]
  },
  {
   "cell_type": "code",
   "execution_count": 132,
   "id": "840ae3c8-45f8-488a-b200-dbb3bc6d38c2",
   "metadata": {},
   "outputs": [
    {
     "name": "stdout",
     "output_type": "stream",
     "text": [
      "[25.3 70.5 68.2]\n"
     ]
    }
   ],
   "source": [
    "data = np.array([\n",
    "    ['Africa', 25.3],\n",
    "    ['Japan', 70.5],\n",
    "    ['Europe',68.2,]\n",
    "])"
   ]
  },
  {
   "cell_type": "code",
   "execution_count": 142,
   "id": "8dd7a0a4-40c2-4ecd-b49c-fe3874b1b883",
   "metadata": {},
   "outputs": [],
   "source": [
    "separ_type_arr = [data[:, 0], data[:, 1].astype(float)]"
   ]
  },
  {
   "cell_type": "code",
   "execution_count": 154,
   "id": "02410810-1533-472e-aa6e-3779ef48c36a",
   "metadata": {},
   "outputs": [
    {
     "name": "stdout",
     "output_type": "stream",
     "text": [
      "[b'Africa' b'Japan' b'Europe']\n"
     ]
    }
   ],
   "source": [
    "record_arr = np.core.records.fromarrays(separ_type_arr, dtype = [('names', 'S20'), ('int_numb',np.int32)])\n",
    "print(record_arr['names'])"
   ]
  },
  {
   "cell_type": "code",
   "execution_count": null,
   "id": "336f3d77-f807-41c3-8ec6-b24dbd6775d9",
   "metadata": {},
   "outputs": [],
   "source": [
    " #92. Consider a large vector Z, compute Z to the power of 3 using 3 different methods (★★★)"
   ]
  },
  {
   "cell_type": "code",
   "execution_count": 172,
   "id": "317b7afc-9675-4a53-a002-87c9b2d04da9",
   "metadata": {},
   "outputs": [
    {
     "data": {
      "text/plain": [
       "array([18, 18,  2,  1,  0, 12, 17, 14,  0, 12, 12,  9,  9,  3,  8,  9,  8,\n",
       "        1, 19,  6, 11,  0, 14, 10, 18,  3,  2, 16, 16, 13,  5,  4, 12,  8,\n",
       "       15, 17,  8,  8, 10,  0, 14,  6,  5,  0,  4, 13, 16, 15,  6,  2, 12,\n",
       "        0, 10,  9, 16, 13, 13,  1, 18,  7, 10, 13, 12, 12, 18,  0, 11,  3,\n",
       "        5, 17,  7, 14,  6,  3, 19,  7, 19,  4, 11,  7, 18,  9,  2, 16, 15,\n",
       "       12,  1,  4, 19, 16, 13,  3, 18,  7,  9,  9, 16, 16, 16, 13,  5, 16,\n",
       "        9,  0,  6, 19,  3, 10,  8,  7, 14, 13, 19, 19, 15, 14, 14,  2,  4,\n",
       "        9, 18, 14, 15,  8,  9,  4, 19, 16,  3,  3,  2, 12,  9, 14, 14,  8,\n",
       "       16, 17,  6, 10,  5, 10,  9, 14,  6, 19, 13, 12, 10,  0, 17,  2,  4,\n",
       "        0, 13,  3,  0,  6, 10, 19,  0, 15, 15,  9,  6, 18, 10,  7,  0, 12,\n",
       "        5, 13,  0, 19, 11, 17,  0, 16, 18,  4,  6, 14,  7, 13, 15, 14, 17,\n",
       "       16, 15, 19,  5, 17,  0,  1,  7, 17,  0,  9,  6, 11,  0,  9, 10,  2,\n",
       "       11,  1,  2,  8,  3,  8,  7,  6, 13, 11,  7, 19, 13, 16,  3, 19, 17,\n",
       "        4, 14,  9,  2, 14, 17,  8, 16, 15, 11,  3, 15,  0, 13,  3,  2,  5,\n",
       "        9,  9,  0, 16, 14,  1, 10, 10,  2,  3, 11, 11,  2,  6,  7, 15,  1,\n",
       "       11, 10, 11,  5, 10, 18, 14, 13, 18,  4, 13,  6,  3, 13,  5,  9,  8,\n",
       "       17,  8,  8, 19,  2, 14, 19, 16,  9,  9, 14, 11,  5, 19, 11,  0,  4,\n",
       "        9, 11,  1,  0, 19,  0, 12, 15, 16, 18,  3, 11,  9,  9,  5,  1,  6,\n",
       "       16, 19,  1, 14,  8,  8,  0,  8, 19, 14, 15,  8,  2,  3, 19,  9,  8,\n",
       "        4, 10, 14,  0, 11, 10,  1, 10, 13, 13, 12,  8,  5, 11,  2,  9, 17,\n",
       "        4, 12, 19,  8,  5,  8, 16, 16, 13, 17,  9, 18, 16,  6,  2,  3,  7,\n",
       "       12, 13, 14, 13, 13,  2, 13, 16,  8, 13,  9, 11,  1,  2,  5, 10,  7,\n",
       "       19, 19,  3,  5, 17, 18, 12,  8,  8, 11, 19, 10,  6, 10,  9,  2,  5,\n",
       "       10,  8,  2,  0,  5,  7, 10, 16, 18])"
      ]
     },
     "execution_count": 172,
     "metadata": {},
     "output_type": "execute_result"
    }
   ],
   "source": [
    "Z = np.random.randint(0, 20, (400,))\n",
    "Z"
   ]
  },
  {
   "cell_type": "code",
   "execution_count": 174,
   "id": "2825ea9f-3371-4570-875c-08b645b30929",
   "metadata": {},
   "outputs": [
    {
     "data": {
      "text/plain": [
       "array([5832, 5832,    8,    1,    0, 1728, 4913, 2744,    0, 1728, 1728,\n",
       "        729,  729,   27,  512,  729,  512,    1, 6859,  216, 1331,    0,\n",
       "       2744, 1000, 5832,   27,    8, 4096, 4096, 2197,  125,   64, 1728,\n",
       "        512, 3375, 4913,  512,  512, 1000,    0, 2744,  216,  125,    0,\n",
       "         64, 2197, 4096, 3375,  216,    8, 1728,    0, 1000,  729, 4096,\n",
       "       2197, 2197,    1, 5832,  343, 1000, 2197, 1728, 1728, 5832,    0,\n",
       "       1331,   27,  125, 4913,  343, 2744,  216,   27, 6859,  343, 6859,\n",
       "         64, 1331,  343, 5832,  729,    8, 4096, 3375, 1728,    1,   64,\n",
       "       6859, 4096, 2197,   27, 5832,  343,  729,  729, 4096, 4096, 4096,\n",
       "       2197,  125, 4096,  729,    0,  216, 6859,   27, 1000,  512,  343,\n",
       "       2744, 2197, 6859, 6859, 3375, 2744, 2744,    8,   64,  729, 5832,\n",
       "       2744, 3375,  512,  729,   64, 6859, 4096,   27,   27,    8, 1728,\n",
       "        729, 2744, 2744,  512, 4096, 4913,  216, 1000,  125, 1000,  729,\n",
       "       2744,  216, 6859, 2197, 1728, 1000,    0, 4913,    8,   64,    0,\n",
       "       2197,   27,    0,  216, 1000, 6859,    0, 3375, 3375,  729,  216,\n",
       "       5832, 1000,  343,    0, 1728,  125, 2197,    0, 6859, 1331, 4913,\n",
       "          0, 4096, 5832,   64,  216, 2744,  343, 2197, 3375, 2744, 4913,\n",
       "       4096, 3375, 6859,  125, 4913,    0,    1,  343, 4913,    0,  729,\n",
       "        216, 1331,    0,  729, 1000,    8, 1331,    1,    8,  512,   27,\n",
       "        512,  343,  216, 2197, 1331,  343, 6859, 2197, 4096,   27, 6859,\n",
       "       4913,   64, 2744,  729,    8, 2744, 4913,  512, 4096, 3375, 1331,\n",
       "         27, 3375,    0, 2197,   27,    8,  125,  729,  729,    0, 4096,\n",
       "       2744,    1, 1000, 1000,    8,   27, 1331, 1331,    8,  216,  343,\n",
       "       3375,    1, 1331, 1000, 1331,  125, 1000, 5832, 2744, 2197, 5832,\n",
       "         64, 2197,  216,   27, 2197,  125,  729,  512, 4913,  512,  512,\n",
       "       6859,    8, 2744, 6859, 4096,  729,  729, 2744, 1331,  125, 6859,\n",
       "       1331,    0,   64,  729, 1331,    1,    0, 6859,    0, 1728, 3375,\n",
       "       4096, 5832,   27, 1331,  729,  729,  125,    1,  216, 4096, 6859,\n",
       "          1, 2744,  512,  512,    0,  512, 6859, 2744, 3375,  512,    8,\n",
       "         27, 6859,  729,  512,   64, 1000, 2744,    0, 1331, 1000,    1,\n",
       "       1000, 2197, 2197, 1728,  512,  125, 1331,    8,  729, 4913,   64,\n",
       "       1728, 6859,  512,  125,  512, 4096, 4096, 2197, 4913,  729, 5832,\n",
       "       4096,  216,    8,   27,  343, 1728, 2197, 2744, 2197, 2197,    8,\n",
       "       2197, 4096,  512, 2197,  729, 1331,    1,    8,  125, 1000,  343,\n",
       "       6859, 6859,   27,  125, 4913, 5832, 1728,  512,  512, 1331, 6859,\n",
       "       1000,  216, 1000,  729,    8,  125, 1000,  512,    8,    0,  125,\n",
       "        343, 1000, 4096, 5832])"
      ]
     },
     "execution_count": 174,
     "metadata": {},
     "output_type": "execute_result"
    }
   ],
   "source": [
    "#method1\n",
    "meth1_pow_arr = np.power(Z, 3)\n",
    "meth1_pow_arr"
   ]
  },
  {
   "cell_type": "code",
   "execution_count": 176,
   "id": "5e821abe-d332-49c4-ab27-b7fd9edcad1b",
   "metadata": {},
   "outputs": [
    {
     "data": {
      "text/plain": [
       "array([5832, 5832,    8,    1,    0, 1728, 4913, 2744,    0, 1728, 1728,\n",
       "        729,  729,   27,  512,  729,  512,    1, 6859,  216, 1331,    0,\n",
       "       2744, 1000, 5832,   27,    8, 4096, 4096, 2197,  125,   64, 1728,\n",
       "        512, 3375, 4913,  512,  512, 1000,    0, 2744,  216,  125,    0,\n",
       "         64, 2197, 4096, 3375,  216,    8, 1728,    0, 1000,  729, 4096,\n",
       "       2197, 2197,    1, 5832,  343, 1000, 2197, 1728, 1728, 5832,    0,\n",
       "       1331,   27,  125, 4913,  343, 2744,  216,   27, 6859,  343, 6859,\n",
       "         64, 1331,  343, 5832,  729,    8, 4096, 3375, 1728,    1,   64,\n",
       "       6859, 4096, 2197,   27, 5832,  343,  729,  729, 4096, 4096, 4096,\n",
       "       2197,  125, 4096,  729,    0,  216, 6859,   27, 1000,  512,  343,\n",
       "       2744, 2197, 6859, 6859, 3375, 2744, 2744,    8,   64,  729, 5832,\n",
       "       2744, 3375,  512,  729,   64, 6859, 4096,   27,   27,    8, 1728,\n",
       "        729, 2744, 2744,  512, 4096, 4913,  216, 1000,  125, 1000,  729,\n",
       "       2744,  216, 6859, 2197, 1728, 1000,    0, 4913,    8,   64,    0,\n",
       "       2197,   27,    0,  216, 1000, 6859,    0, 3375, 3375,  729,  216,\n",
       "       5832, 1000,  343,    0, 1728,  125, 2197,    0, 6859, 1331, 4913,\n",
       "          0, 4096, 5832,   64,  216, 2744,  343, 2197, 3375, 2744, 4913,\n",
       "       4096, 3375, 6859,  125, 4913,    0,    1,  343, 4913,    0,  729,\n",
       "        216, 1331,    0,  729, 1000,    8, 1331,    1,    8,  512,   27,\n",
       "        512,  343,  216, 2197, 1331,  343, 6859, 2197, 4096,   27, 6859,\n",
       "       4913,   64, 2744,  729,    8, 2744, 4913,  512, 4096, 3375, 1331,\n",
       "         27, 3375,    0, 2197,   27,    8,  125,  729,  729,    0, 4096,\n",
       "       2744,    1, 1000, 1000,    8,   27, 1331, 1331,    8,  216,  343,\n",
       "       3375,    1, 1331, 1000, 1331,  125, 1000, 5832, 2744, 2197, 5832,\n",
       "         64, 2197,  216,   27, 2197,  125,  729,  512, 4913,  512,  512,\n",
       "       6859,    8, 2744, 6859, 4096,  729,  729, 2744, 1331,  125, 6859,\n",
       "       1331,    0,   64,  729, 1331,    1,    0, 6859,    0, 1728, 3375,\n",
       "       4096, 5832,   27, 1331,  729,  729,  125,    1,  216, 4096, 6859,\n",
       "          1, 2744,  512,  512,    0,  512, 6859, 2744, 3375,  512,    8,\n",
       "         27, 6859,  729,  512,   64, 1000, 2744,    0, 1331, 1000,    1,\n",
       "       1000, 2197, 2197, 1728,  512,  125, 1331,    8,  729, 4913,   64,\n",
       "       1728, 6859,  512,  125,  512, 4096, 4096, 2197, 4913,  729, 5832,\n",
       "       4096,  216,    8,   27,  343, 1728, 2197, 2744, 2197, 2197,    8,\n",
       "       2197, 4096,  512, 2197,  729, 1331,    1,    8,  125, 1000,  343,\n",
       "       6859, 6859,   27,  125, 4913, 5832, 1728,  512,  512, 1331, 6859,\n",
       "       1000,  216, 1000,  729,    8,  125, 1000,  512,    8,    0,  125,\n",
       "        343, 1000, 4096, 5832])"
      ]
     },
     "execution_count": 176,
     "metadata": {},
     "output_type": "execute_result"
    }
   ],
   "source": [
    "#method2\n",
    "meth2_pow_arr = Z**3\n",
    "meth2_pow_arr"
   ]
  },
  {
   "cell_type": "code",
   "execution_count": 178,
   "id": "3180d2b7-a6de-4b78-9dfa-96bbebdb9d84",
   "metadata": {},
   "outputs": [
    {
     "data": {
      "text/plain": [
       "array([5832, 5832,    8,    1,    0, 1728, 4913, 2744,    0, 1728, 1728,\n",
       "        729,  729,   27,  512,  729,  512,    1, 6859,  216, 1331,    0,\n",
       "       2744, 1000, 5832,   27,    8, 4096, 4096, 2197,  125,   64, 1728,\n",
       "        512, 3375, 4913,  512,  512, 1000,    0, 2744,  216,  125,    0,\n",
       "         64, 2197, 4096, 3375,  216,    8, 1728,    0, 1000,  729, 4096,\n",
       "       2197, 2197,    1, 5832,  343, 1000, 2197, 1728, 1728, 5832,    0,\n",
       "       1331,   27,  125, 4913,  343, 2744,  216,   27, 6859,  343, 6859,\n",
       "         64, 1331,  343, 5832,  729,    8, 4096, 3375, 1728,    1,   64,\n",
       "       6859, 4096, 2197,   27, 5832,  343,  729,  729, 4096, 4096, 4096,\n",
       "       2197,  125, 4096,  729,    0,  216, 6859,   27, 1000,  512,  343,\n",
       "       2744, 2197, 6859, 6859, 3375, 2744, 2744,    8,   64,  729, 5832,\n",
       "       2744, 3375,  512,  729,   64, 6859, 4096,   27,   27,    8, 1728,\n",
       "        729, 2744, 2744,  512, 4096, 4913,  216, 1000,  125, 1000,  729,\n",
       "       2744,  216, 6859, 2197, 1728, 1000,    0, 4913,    8,   64,    0,\n",
       "       2197,   27,    0,  216, 1000, 6859,    0, 3375, 3375,  729,  216,\n",
       "       5832, 1000,  343,    0, 1728,  125, 2197,    0, 6859, 1331, 4913,\n",
       "          0, 4096, 5832,   64,  216, 2744,  343, 2197, 3375, 2744, 4913,\n",
       "       4096, 3375, 6859,  125, 4913,    0,    1,  343, 4913,    0,  729,\n",
       "        216, 1331,    0,  729, 1000,    8, 1331,    1,    8,  512,   27,\n",
       "        512,  343,  216, 2197, 1331,  343, 6859, 2197, 4096,   27, 6859,\n",
       "       4913,   64, 2744,  729,    8, 2744, 4913,  512, 4096, 3375, 1331,\n",
       "         27, 3375,    0, 2197,   27,    8,  125,  729,  729,    0, 4096,\n",
       "       2744,    1, 1000, 1000,    8,   27, 1331, 1331,    8,  216,  343,\n",
       "       3375,    1, 1331, 1000, 1331,  125, 1000, 5832, 2744, 2197, 5832,\n",
       "         64, 2197,  216,   27, 2197,  125,  729,  512, 4913,  512,  512,\n",
       "       6859,    8, 2744, 6859, 4096,  729,  729, 2744, 1331,  125, 6859,\n",
       "       1331,    0,   64,  729, 1331,    1,    0, 6859,    0, 1728, 3375,\n",
       "       4096, 5832,   27, 1331,  729,  729,  125,    1,  216, 4096, 6859,\n",
       "          1, 2744,  512,  512,    0,  512, 6859, 2744, 3375,  512,    8,\n",
       "         27, 6859,  729,  512,   64, 1000, 2744,    0, 1331, 1000,    1,\n",
       "       1000, 2197, 2197, 1728,  512,  125, 1331,    8,  729, 4913,   64,\n",
       "       1728, 6859,  512,  125,  512, 4096, 4096, 2197, 4913,  729, 5832,\n",
       "       4096,  216,    8,   27,  343, 1728, 2197, 2744, 2197, 2197,    8,\n",
       "       2197, 4096,  512, 2197,  729, 1331,    1,    8,  125, 1000,  343,\n",
       "       6859, 6859,   27,  125, 4913, 5832, 1728,  512,  512, 1331, 6859,\n",
       "       1000,  216, 1000,  729,    8,  125, 1000,  512,    8,    0,  125,\n",
       "        343, 1000, 4096, 5832])"
      ]
     },
     "execution_count": 178,
     "metadata": {},
     "output_type": "execute_result"
    }
   ],
   "source": [
    "#method3\n",
    "np.einsum('m,m,m->m', Z,Z,Z)"
   ]
  },
  {
   "cell_type": "code",
   "execution_count": null,
   "id": "9c188ea1-4d2e-45ef-9005-e9ccb5a2cd40",
   "metadata": {},
   "outputs": [],
   "source": [
    "# 93. Consider two arrays A and B of shape (8,3) and (2,2). \n",
    "#How to find rows of A that contain elements of each row of B regardless of the order of the elements in B? (★★★)"
   ]
  },
  {
   "cell_type": "code",
   "execution_count": 184,
   "id": "da124c0d-d3a6-42d3-9326-10f9b6f2fb39",
   "metadata": {},
   "outputs": [
    {
     "name": "stdout",
     "output_type": "stream",
     "text": [
      "[[3 4 2]\n",
      " [4 4 1]\n",
      " [2 2 2]\n",
      " [4 3 2]\n",
      " [5 4 1]\n",
      " [3 5 5]\n",
      " [1 3 4]\n",
      " [0 3 1]]\n",
      "[[5 4]\n",
      " [3 0]]\n"
     ]
    }
   ],
   "source": [
    "np.random.seed(42)\n",
    "A = np.random.randint(0,6, (8,3))\n",
    "B = np.random.randint(0,8, (2,2))\n",
    "result_arr = []\n",
    "print(A)\n",
    "print(B)"
   ]
  },
  {
   "cell_type": "code",
   "execution_count": 186,
   "id": "31ba6def-81d9-4d0d-89bc-2b95d6dc751e",
   "metadata": {},
   "outputs": [
    {
     "name": "stdout",
     "output_type": "stream",
     "text": [
      "[[5 4 1]\n",
      " [0 3 1]]\n"
     ]
    }
   ],
   "source": [
    "for i in range(np.shape(B)[0]):\n",
    "    for j in range(np.shape(A)[0]):\n",
    "        if all(np.count_nonzero(A[j] == elem) >= np.count_nonzero(B[i] == elem) for elem in B[i]):\n",
    "            result_arr.append(A[j])\n",
    "print(np.array(result_arr))"
   ]
  },
  {
   "cell_type": "code",
   "execution_count": null,
   "id": "9294758c-f4cf-496c-80ca-221806e35f6a",
   "metadata": {},
   "outputs": [],
   "source": [
    "# 94. Considering a 10x3 matrix, extract rows with unequal values (e.g. [2,2,3]) (★★★)"
   ]
  },
  {
   "cell_type": "code",
   "execution_count": 198,
   "id": "e038d3c2-1b53-4318-9025-ce36d10b239b",
   "metadata": {},
   "outputs": [
    {
     "name": "stdout",
     "output_type": "stream",
     "text": [
      "[[17  7  3]\n",
      " [ 1  5  9]\n",
      " [ 3 17 11]\n",
      " [ 1  9  3]\n",
      " [13 15 14]\n",
      " [ 7 13  7]\n",
      " [15 12 17]\n",
      " [14 12  8]\n",
      " [14 12  0]\n",
      " [ 6  8  0]]\n",
      "[ True  True  True  True  True False  True  True  True  True]\n",
      "[[ 7 13  7]]\n"
     ]
    }
   ],
   "source": [
    "matrix = np.random.randint(0,20, (10,3))\n",
    "print(matrix)\n",
    "def find_unique_el(row_lst):\n",
    "    return np.shape(np.unique(row_lst))[0] == np.shape(row_lst)[0]\n",
    "\n",
    "check_unique = np.apply_along_axis(find_unique_el, 1, matrix)\n",
    "non_unique_val_matr = matrix[~check_unique]\n",
    "print(check_unique)\n",
    "print(non_unique_val_matr)"
   ]
  },
  {
   "cell_type": "code",
   "execution_count": null,
   "id": "0881f4d3-f9bd-4712-81c5-f3b539efcd33",
   "metadata": {},
   "outputs": [],
   "source": [
    "# 95. Convert a vector of ints into a matrix binary representation (★★★)"
   ]
  },
  {
   "cell_type": "code",
   "execution_count": 7,
   "id": "867665dd-77a2-4863-9c6b-6f1cbd794a3f",
   "metadata": {},
   "outputs": [
    {
     "data": {
      "text/plain": [
       "array([27,  5,  2,  6, 16,  3, 17, 14,  0, 25])"
      ]
     },
     "execution_count": 7,
     "metadata": {},
     "output_type": "execute_result"
    }
   ],
   "source": [
    "vec_int = np.random.randint(0,34, (10,))\n",
    "vec_int"
   ]
  },
  {
   "cell_type": "code",
   "execution_count": 11,
   "id": "42ba6cf4-1efb-4e37-9d97-d1d280bfa48d",
   "metadata": {},
   "outputs": [
    {
     "data": {
      "text/plain": [
       "'11011'"
      ]
     },
     "execution_count": 11,
     "metadata": {},
     "output_type": "execute_result"
    }
   ],
   "source": [
    "np.binary_repr(vec_int[0])"
   ]
  },
  {
   "cell_type": "code",
   "execution_count": 22,
   "id": "ada4a3c0-8afd-45b6-869f-975d2dd185b6",
   "metadata": {},
   "outputs": [
    {
     "data": {
      "text/plain": [
       "5"
      ]
     },
     "execution_count": 22,
     "metadata": {},
     "output_type": "execute_result"
    }
   ],
   "source": [
    "max_bits = max([x.bit_length() for x in vec_int.tolist()])\n",
    "max_bits"
   ]
  },
  {
   "cell_type": "code",
   "execution_count": 40,
   "id": "dbffc94c-7dc1-4ec1-911f-6710779fc5f3",
   "metadata": {},
   "outputs": [
    {
     "data": {
      "text/plain": [
       "array([[11011],\n",
       "       [  101],\n",
       "       [   10],\n",
       "       [  110],\n",
       "       [10000],\n",
       "       [   11],\n",
       "       [10001],\n",
       "       [ 1110],\n",
       "       [    0],\n",
       "       [11001]])"
      ]
     },
     "execution_count": 40,
     "metadata": {},
     "output_type": "execute_result"
    }
   ],
   "source": [
    "binary_matr = np.array([np.array([np.binary_repr(i, width = max_bits)]) for i in vec_int], dtype = int)\n",
    "binary_matr"
   ]
  },
  {
   "cell_type": "code",
   "execution_count": null,
   "id": "0557fe72-5178-4383-9c67-cdc8bda3f9ca",
   "metadata": {},
   "outputs": [],
   "source": [
    "# 96. Given a two dimensional array, how to extract unique rows? (★★★)"
   ]
  },
  {
   "cell_type": "code",
   "execution_count": 65,
   "id": "1a029e72-84b8-4001-bf88-de33e40d9a67",
   "metadata": {},
   "outputs": [
    {
     "data": {
      "text/plain": [
       "array([[1, 0, 0],\n",
       "       [1, 0, 0],\n",
       "       [1, 1, 1]])"
      ]
     },
     "execution_count": 65,
     "metadata": {},
     "output_type": "execute_result"
    }
   ],
   "source": [
    "two_des_arr = np.random.randint(0,2, (3,3))\n",
    "two_des_arr"
   ]
  },
  {
   "cell_type": "code",
   "execution_count": 83,
   "id": "e5e069c4-8221-4371-a20e-f948d490108f",
   "metadata": {},
   "outputs": [
    {
     "name": "stdout",
     "output_type": "stream",
     "text": [
      "[[1 0 0]\n",
      " [1 1 1]]\n"
     ]
    }
   ],
   "source": [
    "unique = np.unique(two_des_arr, axis = 0)\n",
    "print(unique)"
   ]
  },
  {
   "cell_type": "code",
   "execution_count": null,
   "id": "4521ed1a-f2fc-426f-8a70-ffbf75f005cd",
   "metadata": {},
   "outputs": [],
   "source": [
    "# 97. Considering 2 vectors A & B, write the einsum equivalent of inner, outer, sum, and mul function (★★★)"
   ]
  },
  {
   "cell_type": "code",
   "execution_count": 87,
   "id": "8dd71484-ca95-4cdf-9e64-918bb5638b2d",
   "metadata": {},
   "outputs": [
    {
     "name": "stdout",
     "output_type": "stream",
     "text": [
      "[26  7 37 45 31]\n",
      "[5 5 8 4 2]\n"
     ]
    }
   ],
   "source": [
    "a_vect = np.random.randint(0,49, (5,))\n",
    "b_vect = np.random.randint(0,10, (5,))\n",
    "print(a_vect)\n",
    "print(b_vect)"
   ]
  },
  {
   "cell_type": "code",
   "execution_count": 91,
   "id": "f4e739d0-a907-4ef8-8129-1b67c58871ea",
   "metadata": {},
   "outputs": [
    {
     "data": {
      "text/plain": [
       "703"
      ]
     },
     "execution_count": 91,
     "metadata": {},
     "output_type": "execute_result"
    }
   ],
   "source": [
    "inner = np.einsum('i,i', a_vect, b_vect)\n",
    "inner"
   ]
  },
  {
   "cell_type": "code",
   "execution_count": 229,
   "id": "e346e6b3-ca8b-4e39-a2e0-177f19c1230a",
   "metadata": {},
   "outputs": [
    {
     "data": {
      "text/plain": [
       "array([[130, 130, 208, 104,  52],\n",
       "       [ 35,  35,  56,  28,  14],\n",
       "       [185, 185, 296, 148,  74],\n",
       "       [225, 225, 360, 180,  90],\n",
       "       [155, 155, 248, 124,  62]])"
      ]
     },
     "execution_count": 229,
     "metadata": {},
     "output_type": "execute_result"
    }
   ],
   "source": [
    "outer = np.einsum('i,j->ij', a_vect, b_vect)\n",
    "outer"
   ]
  },
  {
   "cell_type": "code",
   "execution_count": 113,
   "id": "c2850067-6675-43f5-9039-646d339c0824",
   "metadata": {},
   "outputs": [
    {
     "data": {
      "text/plain": [
       "146"
      ]
     },
     "execution_count": 113,
     "metadata": {},
     "output_type": "execute_result"
    }
   ],
   "source": [
    "sum_A = np.einsum('i->', a_vect)\n",
    "sum_A"
   ]
  },
  {
   "cell_type": "code",
   "execution_count": 117,
   "id": "bd1af343-e7af-41bf-81f1-ab2ef636df38",
   "metadata": {},
   "outputs": [
    {
     "data": {
      "text/plain": [
       "24"
      ]
     },
     "execution_count": 117,
     "metadata": {},
     "output_type": "execute_result"
    }
   ],
   "source": [
    "sum_B = np.einsum('i->', b_vect)\n",
    "sum_B"
   ]
  },
  {
   "cell_type": "code",
   "execution_count": 231,
   "id": "6883221e-e6c1-4fb0-b68f-71d395b5ee67",
   "metadata": {},
   "outputs": [
    {
     "data": {
      "text/plain": [
       "array([130,  35, 296, 180,  62])"
      ]
     },
     "execution_count": 231,
     "metadata": {},
     "output_type": "execute_result"
    }
   ],
   "source": [
    "mult = np.einsum('i,i->i', a_vect, b_vect)\n",
    "mult"
   ]
  },
  {
   "cell_type": "code",
   "execution_count": null,
   "id": "2807cb0d-44ae-4ba8-86b5-5f04723e361f",
   "metadata": {},
   "outputs": [],
   "source": [
    "# 67. Considering a four dimensions array, how to get sum over the last two axis at once? (★★★)"
   ]
  },
  {
   "cell_type": "code",
   "execution_count": 203,
   "id": "6a6256ca-d1b3-4ac3-9765-ed57ebda14b5",
   "metadata": {},
   "outputs": [
    {
     "data": {
      "text/plain": [
       "array([[[[1, 0, 4, 0, 3],\n",
       "         [3, 4, 0, 4, 3],\n",
       "         [2, 0, 1, 1, 4]],\n",
       "\n",
       "        [[0, 1, 3, 3, 2],\n",
       "         [2, 3, 1, 4, 3],\n",
       "         [4, 4, 0, 1, 4]]],\n",
       "\n",
       "\n",
       "       [[[0, 3, 2, 3, 2],\n",
       "         [0, 1, 1, 1, 0],\n",
       "         [2, 4, 4, 4, 3]],\n",
       "\n",
       "        [[4, 3, 3, 3, 1],\n",
       "         [0, 2, 1, 4, 1],\n",
       "         [4, 3, 2, 4, 2]]],\n",
       "\n",
       "\n",
       "       [[[0, 3, 1, 4, 2],\n",
       "         [3, 2, 4, 3, 2],\n",
       "         [2, 2, 0, 4, 4]],\n",
       "\n",
       "        [[2, 0, 4, 4, 0],\n",
       "         [4, 3, 1, 4, 3],\n",
       "         [1, 2, 4, 1, 4]]],\n",
       "\n",
       "\n",
       "       [[[3, 3, 3, 4, 3],\n",
       "         [4, 2, 3, 1, 0],\n",
       "         [1, 3, 3, 1, 2]],\n",
       "\n",
       "        [[2, 1, 3, 1, 1],\n",
       "         [0, 1, 0, 0, 3],\n",
       "         [0, 1, 3, 4, 1]]]])"
      ]
     },
     "execution_count": 203,
     "metadata": {},
     "output_type": "execute_result"
    }
   ],
   "source": [
    "arr_four_dimen = np.random.randint(0,5, (4, 2, 3, 5))\n",
    "arr_four_dimen"
   ]
  },
  {
   "cell_type": "code",
   "execution_count": 209,
   "id": "c9b9ecba-ab70-43bd-8327-1ddde0336f29",
   "metadata": {},
   "outputs": [
    {
     "data": {
      "text/plain": [
       "array([[30, 35],\n",
       "       [30, 37],\n",
       "       [36, 37],\n",
       "       [36, 21]])"
      ]
     },
     "execution_count": 209,
     "metadata": {},
     "output_type": "execute_result"
    }
   ],
   "source": [
    "np.sum(arr_four_dimen,axis = (-2,-1))"
   ]
  },
  {
   "cell_type": "code",
   "execution_count": null,
   "id": "5ed9e30c-eb57-4eb2-87b1-88bd5f218b49",
   "metadata": {},
   "outputs": [],
   "source": [
    "# 99. Given an integer n and a 2D array X, select from X the rows which can be interpreted as draws from a multinomial distribution \n",
    "#with n degrees, i.e., the rows which only contain integers and which sum to n. (★★★)"
   ]
  },
  {
   "cell_type": "code",
   "execution_count": 159,
   "id": "31ee2116-1000-43d9-8400-c5b7a002bb02",
   "metadata": {},
   "outputs": [
    {
     "name": "stdout",
     "output_type": "stream",
     "text": [
      "[[6 3 0 0]\n",
      " [0 5 2 2]\n",
      " [4 2 6 7]\n",
      " [3 6 5 3]\n",
      " [0 0 3 7]]\n"
     ]
    }
   ],
   "source": [
    "# arr_2_dem = np.random.randint(0,8, (5,4))\n",
    "arr_2_dem = np.array([[6, 3, 0, 0],[0, 5, 2, 2],[4, 2, 6, 7],[3, 6, 5, 3],[0, 0, 3, 7]])\n",
    "print(arr_2_dem)"
   ]
  },
  {
   "cell_type": "code",
   "execution_count": null,
   "id": "9bbe3c38-1eb0-45aa-bbdb-830d718573c9",
   "metadata": {},
   "outputs": [],
   "source": [
    "n = 9"
   ]
  },
  {
   "cell_type": "code",
   "execution_count": 169,
   "id": "1a1f9886-ef77-498f-b4e1-1f23900d2c2a",
   "metadata": {},
   "outputs": [
    {
     "data": {
      "text/plain": [
       "array([[6, 3, 0, 0],\n",
       "       [0, 5, 2, 2]])"
      ]
     },
     "execution_count": 169,
     "metadata": {},
     "output_type": "execute_result"
    }
   ],
   "source": [
    "arr_2_dem[arr_2_dem.sum(axis = 1) == 9]"
   ]
  },
  {
   "cell_type": "code",
   "execution_count": null,
   "id": "a336de00-e7a4-4dc2-84d2-a3789afb6267",
   "metadata": {},
   "outputs": [],
   "source": [
    "# 100. Compute bootstrapped 95% confidence intervals for the mean of a 1D array X \n",
    "#(i.e., resample the elements of an array with replacement N times, compute the mean of each sample, \n",
    "#and then compute percentiles over the means). (★★★)"
   ]
  },
  {
   "cell_type": "code",
   "execution_count": 183,
   "id": "ca6b0282-ab03-40df-9a22-59e6b3872b5c",
   "metadata": {},
   "outputs": [
    {
     "data": {
      "text/plain": [
       "array([17, 18, 28, 33,  7, 15,  5, 33, 33,  0])"
      ]
     },
     "execution_count": 183,
     "metadata": {},
     "output_type": "execute_result"
    }
   ],
   "source": [
    "X_arr = np.random.randint(0,34, (10))\n",
    "N = 8\n",
    "X_arr"
   ]
  },
  {
   "cell_type": "code",
   "execution_count": 187,
   "id": "6e32bb58-33c8-42e2-9382-21d48c60649c",
   "metadata": {},
   "outputs": [
    {
     "data": {
      "text/plain": [
       "array([[ 7, 18, 15,  0, 17,  5, 33, 17,  5, 33],\n",
       "       [33, 33, 33, 33, 33, 33,  0, 33,  5, 33],\n",
       "       [28, 17,  7, 33, 33,  5, 15,  0, 15, 15],\n",
       "       [17, 15, 28,  7, 33, 17, 17,  0, 28,  0],\n",
       "       [17, 33,  0, 33, 18,  7,  5,  7,  7, 15],\n",
       "       [28,  0,  0, 33, 17, 28, 18, 17, 15,  0],\n",
       "       [ 5, 17,  5, 17,  5,  5,  7, 15, 15, 28],\n",
       "       [ 5, 28, 17, 33, 17, 15, 18, 17, 33, 33]])"
      ]
     },
     "execution_count": 187,
     "metadata": {},
     "output_type": "execute_result"
    }
   ],
   "source": [
    "bootstrapp = np.array([np.random.choice(X_arr, size = np.shape(X_arr)[0], replace=True) for _ in range(N)])\n",
    "bootstrapp"
   ]
  },
  {
   "cell_type": "code",
   "execution_count": 193,
   "id": "4bb05f8e-0bd5-4085-bda8-a92f035cbc07",
   "metadata": {},
   "outputs": [],
   "source": [
    "mean_bootstr = np.mean(bootstrapp, axis = 1)"
   ]
  },
  {
   "cell_type": "code",
   "execution_count": 197,
   "id": "82e96ba8-6cfe-4198-bb29-731173d06192",
   "metadata": {},
   "outputs": [
    {
     "data": {
      "text/plain": [
       "array([12.3025, 25.9725])"
      ]
     },
     "execution_count": 197,
     "metadata": {},
     "output_type": "execute_result"
    }
   ],
   "source": [
    "conf_interv = np.percentile(mean_bootstr, [2.5, 97.5])\n",
    "conf_interv"
   ]
  }
 ],
 "metadata": {
  "kernelspec": {
   "display_name": "Python 3 (ipykernel)",
   "language": "python",
   "name": "python3"
  },
  "language_info": {
   "codemirror_mode": {
    "name": "ipython",
    "version": 3
   },
   "file_extension": ".py",
   "mimetype": "text/x-python",
   "name": "python",
   "nbconvert_exporter": "python",
   "pygments_lexer": "ipython3",
   "version": "3.11.7"
  }
 },
 "nbformat": 4,
 "nbformat_minor": 5
}
